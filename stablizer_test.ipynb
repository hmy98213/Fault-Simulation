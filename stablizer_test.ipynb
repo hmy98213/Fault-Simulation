{
 "cells": [
  {
   "cell_type": "code",
   "execution_count": 1,
   "metadata": {},
   "outputs": [],
   "source": [
    "from numpy import pi\n",
    "from pyqpanda import *\n",
    "\n",
    "# 初始化Clifford模拟器，默认最大支持6000比特\n",
    "machine = Stabilizer()\n",
    "machine.init_qvm()\n",
    "\n",
    "\n",
    "nq=100\n",
    "q = machine.qAlloc_many(nq)\n",
    "c = machine.cAlloc_many(nq)\n",
    "\n",
    "# 构建量子线路，支持的门集为{ H, S, X, Y, Z, CNOT, CY, CZ, SWAP }\n",
    "\n",
    "prog = QProg()\n",
    "for _ in range(1000):\n",
    "    for i in range(nq):\n",
    "        prog.insert(H(q[i]))\n",
    "    for j in range(nq-1):\n",
    "        prog.insert(CNOT(q[j], q[j+1]))\n",
    "\n",
    "prog.insert(measure_all(q, c))\n",
    "\n",
    "\n",
    "    # .insert(H(q[49]))\\\n",
    "    # .insert(Z(q[2]))\\\n",
    "    # .insert(CZ(q[0], q[22]))\\\n",
    "    # .insert(CNOT(q[2], q[39]))\\\n",
    "    # .insert(measure_all(q, c))\\\n",
    "\n",
    "# run_with_configuration用于获取测量操作的测量结果\n",
    "result = machine.run_with_configuration(prog, 100)\n",
    "# result = machine.prob_run_dict(prog, q)\n",
    "print(result)\n",
    "\n",
    "machine.finalize()"
   ]
  },
  {
   "cell_type": "code",
   "execution_count": null,
   "metadata": {},
   "outputs": [
    {
     "name": "stdout",
     "output_type": "stream",
     "text": [
      "{'0000000010': 1, '0000000100': 1, '0000000101': 1, '0000001110': 1, '0000100100': 1, '0000101110': 1, '0000110111': 1, '0001001000': 2, '0001010101': 1, '0001100010': 1, '0001111000': 1, '0010000000': 1, '0010000111': 1, '0010011001': 1, '0010100011': 1, '0010100100': 1, '0010110010': 1, '0010111100': 1, '0011000111': 1, '0011001100': 1, '0011010110': 1, '0011011100': 1, '0011100011': 1, '0011110000': 1, '0011110110': 1, '0011111000': 1, '0011111010': 1, '0011111100': 1, '0100000000': 1, '0100001001': 1, '0100011100': 1, '0100100111': 1, '0101000000': 1, '0101000001': 1, '0101001011': 1, '0101011100': 1, '0101100010': 1, '0101101111': 1, '0101111011': 1, '0110000111': 2, '0110010101': 1, '0110011000': 1, '0110011100': 1, '0110101101': 1, '0110110011': 1, '0111011001': 1, '0111011100': 1, '0111110101': 1, '0111111000': 1, '0111111011': 1, '0111111101': 1, '1000011110': 2, '1000100010': 1, '1000100110': 1, '1000110000': 1, '1000110100': 1, '1000111011': 1, '1001000100': 1, '1001001001': 1, '1001011011': 1, '1001100001': 1, '1001101001': 1, '1001101010': 1, '1001110010': 1, '1001110101': 1, '1010000010': 1, '1010010110': 1, '1010010111': 1, '1010011000': 1, '1010100001': 1, '1010101011': 1, '1011000010': 2, '1011011100': 1, '1011100111': 1, '1011111001': 1, '1011111010': 1, '1011111101': 1, '1100000101': 1, '1100001010': 1, '1100011000': 1, '1100011101': 1, '1101010011': 1, '1101011000': 1, '1101100110': 1, '1101110100': 2, '1101111110': 1, '1110000001': 1, '1110000010': 1, '1110010101': 1, '1110101011': 1, '1111011000': 1, '1111100100': 1, '1111101010': 1, '1111110010': 1, '1111110111': 1}\n"
     ]
    }
   ],
   "source": [
    "from numpy import pi\n",
    "from pyqpanda import *\n",
    "\n",
    "# 构建量子虚拟机\n",
    "qvm = MPSQVM()\n",
    "\n",
    "# 初始化操作\n",
    "qvm.set_configure(101, 101)\n",
    "qvm.init_qvm()\n",
    "\n",
    "\n",
    "\n",
    "nq = 10\n",
    "l = 100\n",
    "\n",
    "\n",
    "q = qvm.qAlloc_many(nq)\n",
    "c = qvm.cAlloc_many(nq)\n",
    "\n",
    "# 构建量子程序\n",
    "prog = QProg()\n",
    "prog << hadamard_circuit(q)\n",
    "\n",
    "for _ in range(l):\n",
    "\n",
    "    for i in range(nq):\n",
    "        prog << T(q[i])\n",
    "    for j in range(nq-1):\n",
    "        prog << (CNOT(q[j], q[j+1]))\n",
    "\n",
    "prog.insert(measure_all(q, c))\n",
    "    # prog << T(q[2], q[4])\n",
    "    # prog << CZ(q[3], q[7])\n",
    "    # prog << CNOT(q[0], q[1])\n",
    "    \n",
    "    # << Measure(q[0], c[0])\\\n",
    "    # << Measure(q[1], c[1])\\\n",
    "    # << Measure(q[2], c[2])\\\n",
    "    # << Measure(q[3], c[3])\n",
    "\n",
    "# 量子程序运行100次，并返回测量结果\n",
    "result = qvm.run_with_configuration(prog, c, 100)\n",
    "\n",
    "# 打印量子态在量子程序多次运行结果中出现的次数\n",
    "print(result)\n",
    "\n",
    "qvm.finalize()"
   ]
  }
 ],
 "metadata": {
  "kernelspec": {
   "display_name": "qpanda",
   "language": "python",
   "name": "python3"
  },
  "language_info": {
   "codemirror_mode": {
    "name": "ipython",
    "version": 3
   },
   "file_extension": ".py",
   "mimetype": "text/x-python",
   "name": "python",
   "nbconvert_exporter": "python",
   "pygments_lexer": "ipython3",
   "version": "3.9.12"
  }
 },
 "nbformat": 4,
 "nbformat_minor": 2
}
