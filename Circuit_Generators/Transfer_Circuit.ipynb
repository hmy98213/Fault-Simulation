{
 "cells": [
  {
   "cell_type": "code",
   "execution_count": 13,
   "metadata": {},
   "outputs": [],
   "source": [
    "def trans_supre(path, file_name):\n",
    "    # path=\"../Benchmarks/inst/\"\n",
    "    # file_name='inst_4x5_10_0.txt'\n",
    "    file=open(path+file_name)\n",
    "\n",
    "    file_name2=file_name[:-4]+'.qasm'\n",
    "    f=open(path+file_name2,'w')\n",
    "\n",
    "    A=file.readlines()\n",
    "    qubits=int(A[0])\n",
    "\n",
    "    print(qubits)\n",
    "    A.pop(0)\n",
    "    f.write('OPENQASM 2.0;\\n')\n",
    "    f.write('include \"qelib1.inc\";\\n')\n",
    "    qreg = 'qreg q['+str(qubits)+'];\\n'\n",
    "    f.write(qreg)\n",
    "    creg='creg c['+str(qubits)+'];\\n'\n",
    "    f.write(creg)\n",
    "\n",
    "    for line in A:\n",
    "        s=line[:-1].split(' ')\n",
    "        if s[1]=='is':\n",
    "    #         g='iswap q['+str(s[2])+'],q['+str(s[3])+'];\\n'\n",
    "            g1='s'+' q['+str(s[2])+'];\\n'\n",
    "            g2='s'+' q['+str(s[3])+'];\\n'\n",
    "            g3='h'+' q['+str(s[2])+'];\\n'\n",
    "            g4='cx q['+str(s[2])+'],q['+str(s[3])+'];\\n'\n",
    "            g5='cx q['+str(s[3])+'],q['+str(s[2])+'];\\n'\n",
    "            f.write(g1)\n",
    "            f.write(g2)\n",
    "            f.write(g3)\n",
    "            f.write(g4)\n",
    "            f.write(g5)\n",
    "            g='h'+' q['+str(s[3])+'];\\n'\n",
    "        elif s[1]=='x_1_2':\n",
    "            g='rx(pi/2) q['+str(s[2])+'];\\n'\n",
    "        elif s[1]=='y_1_2':\n",
    "            g='ry(pi/2) q['+str(s[2])+'];\\n'\n",
    "        elif s[1]=='cz':\n",
    "            g='cz q['+str(s[2])+'],q['+str(s[3])+'];\\n'\n",
    "        else:\n",
    "            g=s[1]+' q['+str(s[2])+'];\\n'\n",
    "        f.write(g) \n",
    "    f.close()\n",
    "    file.close()"
   ]
  },
  {
   "cell_type": "code",
   "execution_count": 14,
   "metadata": {},
   "outputs": [
    {
     "name": "stdout",
     "output_type": "stream",
     "text": [
      "16\n",
      "36\n",
      "49\n",
      "36\n",
      "16\n",
      "20\n",
      "36\n",
      "20\n",
      "16\n",
      "36\n",
      "16\n",
      "49\n",
      "49\n",
      "49\n",
      "49\n",
      "20\n",
      "16\n",
      "20\n",
      "20\n",
      "36\n"
     ]
    }
   ],
   "source": [
    "import os\n",
    "path=\"../Benchmarks/inst_ori/\"\n",
    "folder = os.listdir(path)\n",
    "for file_name in folder:\n",
    "    trans_supre(path, file_name)\n"
   ]
  },
  {
   "cell_type": "code",
   "execution_count": 15,
   "metadata": {},
   "outputs": [
    {
     "name": "stdout",
     "output_type": "stream",
     "text": [
      "inst_4x4_10_2.txt\n",
      "inst_4x5_10_3.qasm\n",
      "inst_4x4_10_3.qasm\n",
      "inst_4x5_10_0..qasm\n",
      ".nfs0000000008ff0e6a0000012d\n",
      "inst_6x6_10_0.qasm\n",
      "inst_4x4_10_0.txt\n",
      "inst_4x5_10_0.qasm\n",
      "inst_4x5_10_1.qasm\n",
      "inst_4x5_10_2.qasm\n",
      "inst_4x4_10_3.txt\n",
      "inst_6x6_10_3.qasm\n",
      "inst_12x12_10_0.qasm\n",
      "inst_4x4_10_1.txt\n",
      "inst_6x6_10_1.qasm\n",
      "inst.qasm\n",
      "inst_4x4_10_0.qasm\n",
      "inst_7x7_10_1.qasm\n",
      "inst_8x8_10_0.qasm\n",
      "inst_4x5_10_4.qasm\n",
      "inst_4x4_10_4.qasm\n",
      "inst_4x4_10_1.qasm\n",
      "inst_4x4_10_4.txt\n",
      "inst_7x7_10_0.qasm\n",
      "inst_7x7_10_4.qasm\n",
      "inst_6x6_10_4.qasm\n",
      "inst_9x9_10_0.qasm\n",
      "inst_7x7_10_2.qasm\n",
      "inst_4x4_10_2.qasm\n",
      "inst_7x7_10_3.qasm\n",
      "inst_6x6_10_2.qasm\n",
      "inst_10x10_10_0.qasm\n"
     ]
    }
   ],
   "source": [
    "import os\n",
    "import shutil\n",
    "path=\"../Benchmarks/inst/\"\n",
    "folder = os.listdir(path)\n",
    "for file_name in folder:\n",
    "    print(file_name)\n",
    "    if not file_name.endswith(\".qasm\"):\n",
    "        if file_name.endswith('12d'):\n",
    "            continue\n",
    "        os.remove(path+file_name)\n",
    "\n"
   ]
  },
  {
   "cell_type": "code",
   "execution_count": 4,
   "metadata": {
    "scrolled": true
   },
   "outputs": [
    {
     "data": {
      "text/plain": [
       "[QuantumRegister(30, 'q')]"
      ]
     },
     "execution_count": 4,
     "metadata": {},
     "output_type": "execute_result"
    }
   ],
   "source": [
    "from qiskit import QuantumCircuit\n",
    "path=\"Linz_Circuit/shor/\"\n",
    "file_name=\"shor_111_2.qasm\"\n",
    "cir=QuantumCircuit.from_qasm_file(path+file_name)"
   ]
  },
  {
   "cell_type": "code",
   "execution_count": 10,
   "metadata": {},
   "outputs": [],
   "source": [
    "cir2=QuantumCircuit(len(cir.qubits),len(cir.clbits))"
   ]
  },
  {
   "cell_type": "code",
   "execution_count": 14,
   "metadata": {
    "scrolled": false
   },
   "outputs": [
    {
     "name": "stderr",
     "output_type": "stream",
     "text": [
      "C:\\ProgramData\\Anaconda3\\lib\\site-packages\\ipykernel_launcher.py:6: DeprecationWarning: The QuantumCircuit.cu1 method is deprecated as of 0.16.0. It will be removed no earlier than 3 months after the release date. You should use the QuantumCircuit.cp method instead, which acts identically.\n",
      "  \n",
      "C:\\ProgramData\\Anaconda3\\lib\\site-packages\\ipykernel_launcher.py:8: DeprecationWarning: The QuantumCircuit.u1 method is deprecated as of 0.16.0. It will be removed no earlier than 3 months after the release date. You should use the QuantumCircuit.p method instead, which acts identically.\n",
      "  \n"
     ]
    }
   ],
   "source": [
    "for g in cir.data:\n",
    "    if g[0].name=='ccu1':\n",
    "        lam=g[0].params[0]\n",
    "        q=[q.index for q in g[1]]\n",
    "        a,b,c=q[0],q[1],q[2]\n",
    "        cir2.cu1(lam/2,a,b);\n",
    "        cir2.ccx(a,b,c)\n",
    "        cir2.u1(-lam/2,c)\n",
    "        cir2.ccx(a,b,c)\n",
    "        cir2.u1(lam/2,c)\n",
    "    else:\n",
    "        cir2.data.append(g)"
   ]
  },
  {
   "cell_type": "code",
   "execution_count": 16,
   "metadata": {},
   "outputs": [],
   "source": [
    "def write_2_file(cir,path='Gen_QFT/',file_name='test.qasm'):\n",
    "    str=cir.qasm(formatted=False)\n",
    "    f=open(path+file_name,'w')\n",
    "    f.write(str) \n",
    "    f.close()"
   ]
  },
  {
   "cell_type": "code",
   "execution_count": 17,
   "metadata": {},
   "outputs": [],
   "source": [
    "write_2_file(cir2,path='Gen_QFT/',file_name='shor_111_2.qasm')"
   ]
  }
 ],
 "metadata": {
  "kernelspec": {
   "display_name": "Python 3.6.8 64-bit",
   "language": "python",
   "name": "python3"
  },
  "language_info": {
   "codemirror_mode": {
    "name": "ipython",
    "version": 3
   },
   "file_extension": ".py",
   "mimetype": "text/x-python",
   "name": "python",
   "nbconvert_exporter": "python",
   "pygments_lexer": "ipython3",
   "version": "3.6.8"
  },
  "vscode": {
   "interpreter": {
    "hash": "916dbcbb3f70747c44a77c7bcd40155683ae19c65e1c03b4aa3499c5328201f1"
   }
  }
 },
 "nbformat": 4,
 "nbformat_minor": 4
}
